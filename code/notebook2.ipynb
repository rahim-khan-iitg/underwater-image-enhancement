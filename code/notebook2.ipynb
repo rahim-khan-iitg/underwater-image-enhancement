{
 "cells": [
  {
   "cell_type": "code",
   "execution_count": 4,
   "metadata": {},
   "outputs": [],
   "source": [
    "def make_correction(channel:np.ndarray,mu:float)->np.ndarray:\n",
    "    channel=channel/255.0\n",
    "    channel_mean=channel.mean()\n",
    "    channel_var=channel.var()\n",
    "    channel_max=channel_mean+mu*channel_var\n",
    "    channel_min=channel_mean-mu*channel_var\n",
    "    channel_corrected=255.0*(channel-channel_min)/(channel_max-channel_min)\n",
    "    channel_corrected=np.clip(channel_corrected,0,255)\n",
    "    return channel_corrected.astype(np.uint8)"
   ]
  },
  {
   "cell_type": "code",
   "execution_count": 5,
   "metadata": {},
   "outputs": [],
   "source": [
    "def shrink(x:any,eps:float)->float:\n",
    "    ans=x*np.max(np.abs(x)-eps,0)/np.abs(x)\n",
    "    return ans"
   ]
  },
  {
   "cell_type": "code",
   "execution_count": 6,
   "metadata": {},
   "outputs": [],
   "source": [
    "def get_corrected_image(img:np.ndarray,mu:float)->np.ndarray:\n",
    "    R,G,B=img[:,:,0],img[:,:,1],img[:,:,2]\n",
    "    R_corrected,G_corrected,B_corrected=make_correction(R,mu),make_correction(G,mu),make_correction(B,mu)\n",
    "    corrected_image=np.stack([R_corrected,G_corrected,B_corrected],axis=-1)\n",
    "    return corrected_image\n"
   ]
  },
  {
   "cell_type": "code",
   "execution_count": 7,
   "metadata": {},
   "outputs": [],
   "source": [
    "def RGB2LAB(img:np.ndarray)->tuple[np.ndarray]:\n",
    "    lab_img=color.rgb2lab(img)\n",
    "    L,A,B=lab_img[:,:,0],lab_img[:,:,1],lab_img[:,:,2]\n",
    "    return (L,A,B)"
   ]
  },
  {
   "cell_type": "code",
   "execution_count": 8,
   "metadata": {},
   "outputs": [],
   "source": [
    "def initialize_RI(L_channel:np.ndarray,sigma:float=2)->tuple[np.ndarray]:\n",
    "    height,width=L_channel.shape[0],L_channel.shape[1]\n",
    "    R=np.zeros(shape=(height,width))\n",
    "    I0=cv.GaussianBlur(L_channel,(0,0),sigmaX=sigma,sigmaY=sigma)\n",
    "    return (R,I0)"
   ]
  }
 ],
 "metadata": {
  "kernelspec": {
   "display_name": "Python 3",
   "language": "python",
   "name": "python3"
  },
  "language_info": {
   "codemirror_mode": {
    "name": "ipython",
    "version": 3
   },
   "file_extension": ".py",
   "mimetype": "text/x-python",
   "name": "python",
   "nbconvert_exporter": "python",
   "pygments_lexer": "ipython3",
   "version": "3.11.5"
  }
 },
 "nbformat": 4,
 "nbformat_minor": 2
}
