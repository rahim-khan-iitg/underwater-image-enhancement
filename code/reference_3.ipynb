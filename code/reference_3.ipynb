{
 "cells": [
  {
   "cell_type": "code",
   "execution_count": 10,
   "metadata": {},
   "outputs": [],
   "source": [
    "import numpy as np\n",
    "from skimage import io,color\n",
    "import cv2 as cv\n",
    "from scipy.signal import convolve2d"
   ]
  },
  {
   "cell_type": "code",
   "execution_count": 4,
   "metadata": {},
   "outputs": [],
   "source": [
    "def make_correction(channel:np.ndarray,mu:float)->np.ndarray:\n",
    "    channel=channel/255.0\n",
    "    channel_mean=channel.mean()\n",
    "    channel_var=channel.var()\n",
    "    channel_max=channel_mean+mu*channel_var\n",
    "    channel_min=channel_mean-mu*channel_var\n",
    "    channel_corrected=255.0*(channel-channel_min)/(channel_max-channel_min)\n",
    "    channel_corrected=np.clip(channel_corrected,0,255)\n",
    "    return channel_corrected.astype(np.uint8)"
   ]
  },
  {
   "cell_type": "code",
   "execution_count": 3,
   "metadata": {},
   "outputs": [],
   "source": [
    "def shrink(x:any,eps:float)->float:\n",
    "    ans=x*np.max(np.abs(x)-eps,0)/np.linalg.norm(x,ord=2)\n",
    "    return ans"
   ]
  },
  {
   "cell_type": "code",
   "execution_count": 5,
   "metadata": {},
   "outputs": [],
   "source": [
    "def get_corrected_image(img:np.ndarray,mu:float)->np.ndarray:\n",
    "    R,G,B=img[:,:,0],img[:,:,1],img[:,:,2]\n",
    "    R_corrected,G_corrected,B_corrected=make_correction(R,mu),make_correction(G,mu),make_correction(B,mu)\n",
    "    corrected_image=np.stack([R_corrected,G_corrected,B_corrected],axis=-1)\n",
    "    return corrected_image\n"
   ]
  },
  {
   "cell_type": "code",
   "execution_count": 6,
   "metadata": {},
   "outputs": [],
   "source": [
    "def RGB2LAB(img:np.ndarray)->tuple[np.ndarray]:\n",
    "    lab_img=color.rgb2lab(img)\n",
    "    L,A,B=lab_img[:,:,0],lab_img[:,:,1],lab_img[:,:,2]\n",
    "    return (L,A,B)"
   ]
  },
  {
   "cell_type": "code",
   "execution_count": 8,
   "metadata": {},
   "outputs": [],
   "source": [
    "def initialize_RI(L_channel:np.ndarray,sigma:float=2)->tuple[np.ndarray]:\n",
    "    height,width=L_channel.shape[0],L_channel.shape[1]\n",
    "    R=np.zeros(shape=(height,width))\n",
    "    I0=cv.GaussianBlur(L_channel,(0,0),sigmaX=sigma,sigmaY=sigma)\n",
    "    return (R,I0)"
   ]
  },
  {
   "cell_type": "code",
   "execution_count": 9,
   "metadata": {},
   "outputs": [],
   "source": [
    "SOBEL_KERNEL_X=np.array([[-1, 0, 1],[-2, 0, 2],[-1, 0, 1]])\n",
    "SOBEL_KERNEL_Y=np.array([[-1, -2, -1],[0, 0, 0],[1, 2, 1]])"
   ]
  },
  {
   "cell_type": "code",
   "execution_count": 11,
   "metadata": {},
   "outputs": [],
   "source": [
    "def gradient_x(img:np.ndarray)->np.ndarray:\n",
    "    sobel_x=np.abs(convolve2d(img,SOBEL_KERNEL_X,mode='same'))\n",
    "    return np.uint8(sobel_x)"
   ]
  },
  {
   "cell_type": "code",
   "execution_count": 12,
   "metadata": {},
   "outputs": [],
   "source": [
    "def gradient_y(img:np.ndarray)->np.ndarray:\n",
    "    sobel_y=np.abs(convolve2d(img,SOBEL_KERNEL_Y,mode='same'))\n",
    "    return np.uint8(sobel_y)"
   ]
  },
  {
   "cell_type": "code",
   "execution_count": 13,
   "metadata": {},
   "outputs": [],
   "source": [
    "# delta denotes lambda in original paper we can not use lambda as variable because it is a reserved keyword in python language\n",
    "def optimizer(R:np.ndarray,I:np.ndarray,I0:np.ndarray,L:np.ndarray,d:np.ndarray,alpha:float=100,beta:float=0.1,gamma:float=1,delta:float=10)->float:\n",
    "    penalty1=(np.linalg.norm(R*I-L,ord=2))**2\n",
    "    penalty2=(alpha*(np.linalg.norm(np.vstack((gradient_x(I),gradient_y(I))),ord=2))**2)\n",
    "    penalty3=(delta*(np.linalg.norm(np.vstack((gradient_x(R),gradient_y(R)))-d,ord=2))**2)\n",
    "    penalty3=beta*(penalty3+np.linalg.norm(d,ord=1))\n",
    "    penalty4=gamma*(np.linalg.norm(I-I0,ord=2))**2\n",
    "    return (penalty1+penalty2+penalty3+penalty4)"
   ]
  },
  {
   "cell_type": "code",
   "execution_count": 14,
   "metadata": {},
   "outputs": [],
   "source": [
    "def update_d(R:np.ndarray,delta:float=10)->np.ndarray:\n",
    "    d_x=shrink(gradient_x(R),1.0/2*delta)\n",
    "    d_y=shrink(gradient_y(R),1.0/2*delta)\n",
    "    return np.vstack((d_x,d_y))"
   ]
  },
  {
   "cell_type": "code",
   "execution_count": 15,
   "metadata": {},
   "outputs": [],
   "source": [
    "def denom(D_x:np.ndarray=SOBEL_KERNEL_X,D_y:np.ndarray=SOBEL_KERNEL_Y)->np.ndarray:\n",
    "    fft_d_x=np.fft.fft(D_x)\n",
    "    conjugate_fft_d_x=np.conjugate(fft_d_x)\n",
    "    fft_d_y=np.fft.fft(D_y)\n",
    "    conjugate_fft_d_y=np.conjugate(fft_d_y)\n",
    "    return fft_d_x*conjugate_fft_d_x+fft_d_y*conjugate_fft_d_y"
   ]
  },
  {
   "cell_type": "code",
   "execution_count": 16,
   "metadata": {},
   "outputs": [],
   "source": [
    "def update_R(L:np.ndarray,I:np.ndarray,beta:float=0.1,delta:float=10)->np.ndarray:\n",
    "    r=(1+b*delta)*np.fft.fft(L/I)\n",
    "    r=r/(np.fft.fft(1)+beta*delta*denom())\n",
    "    return np.fft.ifft(r)\n",
    "    "
   ]
  },
  {
   "cell_type": "code",
   "execution_count": 17,
   "metadata": {},
   "outputs": [],
   "source": [
    "def update_I(I0:np.ndarray,L:np.ndarray,R:np.ndarray,alpha:float=100,gamma:float=1)->np.ndarray:\n",
    "    r=np.fft.fft(gamma*I0+L/R)\n",
    "    r=r/(np.fft.fft(1+gamma)+alpha*denom())\n",
    "    return np.fft.ifft(r)"
   ]
  },
  {
   "cell_type": "code",
   "execution_count": 18,
   "metadata": {},
   "outputs": [],
   "source": [
    "def enhance_R(R:np.ndarray)->np.ndarray:\n",
    "    clahe=cv.createCLAHE(clipLimit=2,tileGridSize=(8,8))\n",
    "    clahe_result=clahe.apply(R)\n",
    "    return clahe_result"
   ]
  },
  {
   "cell_type": "code",
   "execution_count": null,
   "metadata": {},
   "outputs": [],
   "source": []
  }
 ],
 "metadata": {
  "kernelspec": {
   "display_name": "Python 3",
   "language": "python",
   "name": "python3"
  },
  "language_info": {
   "codemirror_mode": {
    "name": "ipython",
    "version": 3
   },
   "file_extension": ".py",
   "mimetype": "text/x-python",
   "name": "python",
   "nbconvert_exporter": "python",
   "pygments_lexer": "ipython3",
   "version": "3.11.5"
  }
 },
 "nbformat": 4,
 "nbformat_minor": 2
}
